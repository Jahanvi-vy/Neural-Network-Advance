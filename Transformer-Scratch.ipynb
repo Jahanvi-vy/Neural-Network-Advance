{
 "cells": [
  {
   "cell_type": "code",
   "execution_count": 2,
   "id": "14de0175-da3d-4015-8fe4-5083562ea47a",
   "metadata": {},
   "outputs": [],
   "source": [
    "d_model = 3 "
   ]
  },
  {
   "cell_type": "code",
   "execution_count": 1,
   "id": "10c311e7-343d-4ae9-89f6-867135fe696b",
   "metadata": {},
   "outputs": [],
   "source": [
    "import torch\n",
    "import torch.nn as nn\n",
    "import torch.nn.functional as F\n"
   ]
  },
  {
   "cell_type": "code",
   "execution_count": 13,
   "id": "b58c8f3e-2a61-4bd2-8b3e-65bec8b008e8",
   "metadata": {},
   "outputs": [],
   "source": [
    "class MultiHeadSelfAttention(nn.Module):\n",
    "    def __init__(self,d_model,num_heads):\n",
    "        super(MultiHeadSelfAttention,self)._init_()\n",
    "        self.num_heads=num_heads\n",
    "        self.d_model=d_model\n",
    "        self.depth=d_model//num_heads\n",
    "\n",
    "\n",
    "        self.Wq=nn.Linear(d_model,d_model)\n",
    "        self.Wk=nn.Linear(d_model,d_model)\n",
    "        self.Wv=nn.Linear(d_model,d_model)\n",
    "        self.dense=nn.Linear(d_model,d_model)\n",
    "        \n",
    "    def split_heads(self,x):\n",
    "        x=x.view(x.size(0),x.size(1),self.num_heads,self.depth)\n",
    "        return x.permute(0, 2, 1, 3)\n",
    "        \n",
    "    def forward(self,x):\n",
    "        Q=self.Wq(x)\n",
    "        K=self.Wk(x)\n",
    "        V=self.Wv(x)\n",
    "\n",
    "        Q=self.split_heads(Q)\n",
    "        K = self.split_heads(K)\n",
    "        V = self.split_heads(V)\n",
    "\n",
    "        attn_scores=torch.matmul(Q,k.transpose(-2,-1))/(self.depth**0.5)\n",
    "        attn_weights=F.softmax(attn_scores,dim=-1)\n",
    "        \n",
    "        output = torch.matmul(attn_weights, V)\n",
    "        output = output.permute(0, 2, 1, 3).contiguous()  \n",
    "        output = output.view(x.size(0), x.size(1), self.d_model)\n",
    "        return self.dense(output)\n",
    "        "
   ]
  },
  {
   "cell_type": "code",
   "execution_count": 15,
   "id": "1f118821-6414-4930-be26-38731afaae53",
   "metadata": {},
   "outputs": [],
   "source": [
    "class PositionwiseFeedForward(nn.Module):\n",
    "    def _init_(self,d_model,d_ff,dropout_rate):\n",
    "        super(PositionwiseFeedForward,self)._init_()\n",
    "        \n",
    "        self.linear1=nn.Linear(d_model,d_ff)\n",
    "        self.dropout(nn.Dropout(dropout_rate))\n",
    "        self.linear2=nn.Linear(nn.Linear(d_ff,d_model))\n",
    "\n",
    "    def forward(self,x):\n",
    "        return self.linear2(self.dropout(F.relu(self.linear1(x))))\n",
    "\n",
    "\n",
    "                            \n",
    "        \n",
    "        "
   ]
  },
  {
   "cell_type": "markdown",
   "id": "800202f7-f9f8-4d6c-b5f5-82af2403532a",
   "metadata": {},
   "source": [
    "The input is first passed through linear1 followed by a ReLU activation (F.relu). ReLU introduces non-linearity.\n",
    "After applying ReLU, dropout regularizes the network by randomly setting some elements to zero.\n",
    "Finally, the output is passed through linear2 to project back to the original d_model dimensions."
   ]
  },
  {
   "cell_type": "code",
   "execution_count": 16,
   "id": "ede171d5-7992-4c75-9757-9ad0ed6a61df",
   "metadata": {},
   "outputs": [],
   "source": [
    "class LayerNorm(nn.Module):\n",
    "    def _init_(self, d_model, eps=1e-6):\n",
    "        super(LayerNorm, self)._init_()\n",
    "        self.layer_norm=nn.LayerNorm(d_model,eps=eps)\n",
    "    def forward(self,x):\n",
    "        return self.layer_norm(x)\n",
    "        "
   ]
  },
  {
   "cell_type": "markdown",
   "id": "1c693944-2ec9-4d92-a83b-2ae8ffe4ea0c",
   "metadata": {},
   "source": [
    "- *eps*: A small constant added for numerical stability to avoid division by zero.\n",
    "In each encoder or decoder layer, normalization is applied to ensure that the values passed into subsequent layers have a stable distribution."
   ]
  },
  {
   "cell_type": "code",
   "execution_count": 19,
   "id": "bee1eae5-0a71-41e4-9aa6-763563c49883",
   "metadata": {},
   "outputs": [],
   "source": [
    "class EmbeddingLayer(nn.Module):\n",
    "    def _init_(self, vocab_size, d_model, max_len):\n",
    "        super(EmbeddingLayer, self)._init_()\n",
    "        self.word_embeddings = nn.Embedding(vocab_size, d_model)\n",
    "        self.position_embeddings = nn.Embedding(max_len, d_model)\n",
    "\n",
    "    def forward(self, input_sequence):\n",
    "        seq_len = input_sequence.size(1)\n",
    "        positions = torch.arange(0, seq_len, dtype=torch.long, device=input_sequence.device).unsqueeze(0)\n",
    "        return self.word_embeddings(input_sequence) + self.position_embeddings(positions)\n",
    "\n"
   ]
  },
  {
   "cell_type": "code",
   "execution_count": 20,
   "id": "b7bfa58d-37d0-46b8-8c36-26d5c1f53ffe",
   "metadata": {},
   "outputs": [],
   "source": [
    "class EncoderLayer(nn.Module):\n",
    "    def _init_(self, d_model, num_heads, d_ff, dropout_rate):\n",
    "        super(EncoderLayer, self)._init_()\n",
    "        self.attention = MultiHeadSelfAttention(d_model, num_heads)\n",
    "        self.feed_forward = PositionwiseFeedForward(d_model, d_ff, dropout_rate)\n",
    "        self.layer_norm1 = LayerNorm(d_model)\n",
    "        self.layer_norm2 = LayerNorm(d_model)\n",
    "        self.dropout1 = nn.Dropout(dropout_rate)\n",
    "        self.dropout2 = nn.Dropout(dropout_rate)\n",
    "\n",
    "    def forward(self, x):\n",
    "        attn_output = self.attention(x)\n",
    "        x = self.layer_norm1(x + self.dropout1(attn_output))\n",
    "        ff_output = self.feed_forward(x)\n",
    "        return self.layer_norm2(x + self.dropout2(ff_output))\n"
   ]
  },
  {
   "cell_type": "code",
   "execution_count": 21,
   "id": "23bba4a5-8471-4784-93ef-774b73436089",
   "metadata": {},
   "outputs": [],
   "source": [
    "class Encoder(nn.Module):\n",
    "    def _init_(self, vocab_size, num_layers, d_model, num_heads, d_ff, dropout_rate, max_len):\n",
    "        super(Encoder, self)._init_()\n",
    "        self.embedding = EmbeddingLayer(vocab_size, d_model, max_len)\n",
    "        self.layers = nn.ModuleList([\n",
    "            EncoderLayer(d_model, num_heads, d_ff, dropout_rate) for _ in range(num_layers)\n",
    "        ])\n",
    "\n",
    "    def forward(self, input_sequence):\n",
    "        x = self.embedding(input_sequence)\n",
    "        for layer in self.layers:\n",
    "            x = layer(x)\n",
    "        return x"
   ]
  },
  {
   "cell_type": "code",
   "execution_count": 22,
   "id": "1256fef4-cbb6-4644-8f05-46bb4884ca3f",
   "metadata": {},
   "outputs": [],
   "source": [
    "class MaskedMultiHeadSelfAttention(nn.Module):\n",
    "    def _init_(self, d_model, num_heads):\n",
    "        super(MaskedMultiHeadSelfAttention, self)._init_()\n",
    "        self.attention = MultiHeadSelfAttention(d_model, num_heads)\n",
    "\n",
    "    def forward(self, x):\n",
    "        seq_len = x.size(1)\n",
    "        # Create a mask to prevent attending to future tokens\n",
    "        mask = torch.triu(torch.ones(seq_len, seq_len), diagonal=1).bool().to(x.device)\n",
    "        attn_output = self.attention(x)\n",
    "        attn_output = attn_output.masked_fill(mask, float('-inf'))\n",
    "        return attn_output"
   ]
  },
  {
   "cell_type": "code",
   "execution_count": 23,
   "id": "09767b2a-d1ed-4c37-83c4-710bd25ab62f",
   "metadata": {},
   "outputs": [],
   "source": [
    "class DecoderLayer(nn.Module):\n",
    "    def _init_(self, d_model, num_heads, d_ff, dropout_rate):\n",
    "        super(DecoderLayer, self)._init_()\n",
    "        self.masked_attention = MaskedMultiHeadSelfAttention(d_model, num_heads)\n",
    "        self.attention = MultiHeadSelfAttention(d_model, num_heads)\n",
    "        self.feed_forward = PositionwiseFeedForward(d_model, d_ff, dropout_rate)\n",
    "        self.layer_norm1 = LayerNorm(d_model)\n",
    "        self.layer_norm2 = LayerNorm(d_model)\n",
    "        self.layer_norm3 = LayerNorm(d_model)\n",
    "        self.dropout1 = nn.Dropout(dropout_rate)\n",
    "        self.dropout2 = nn.Dropout(dropout_rate)\n",
    "        self.dropout3 = nn.Dropout(dropout_rate)\n",
    "\n",
    "    def forward(self, x, encoder_output):\n",
    "        masked_attn_output = self.masked_attention(x)\n",
    "        x = self.layer_norm1(x + self.dropout1(masked_attn_output))\n",
    "        attn_output = self.attention(x, encoder_output)\n",
    "        x = self.layer_norm2(x + self.dropout2(attn_output))\n",
    "        ff_output = self.feed_forward(x)\n",
    "        return self.layer_norm3(x + self.dropout3(ff_output))\n"
   ]
  },
  {
   "cell_type": "code",
   "execution_count": 24,
   "id": "f3c6d48e-9ad8-4c52-b8dc-966831aba42c",
   "metadata": {},
   "outputs": [],
   "source": [
    "class Decoder(nn.Module):\n",
    "    def _init_(self, vocab_size, num_layers, d_model, num_heads, d_ff, dropout_rate, max_len):\n",
    "        super(Decoder, self)._init_()\n",
    "        self.embedding = EmbeddingLayer(vocab_size, d_model, max_len)\n",
    "        self.layers = nn.ModuleList([\n",
    "            DecoderLayer(d_model, num_heads, d_ff, dropout_rate) for _ in range(num_layers)\n",
    "        ])\n",
    "\n",
    "    def forward(self, input_sequence, encoder_output):\n",
    "        x = self.embedding(input_sequence)\n",
    "        for layer in self.layers:\n",
    "            x = layer(x, encoder_output)\n",
    "        return x\n"
   ]
  },
  {
   "cell_type": "code",
   "execution_count": 25,
   "id": "473ba6f7-18f3-4d8f-a755-ee624e685542",
   "metadata": {},
   "outputs": [],
   "source": [
    "class Transformer(nn.Module):\n",
    "    def _init_(self, vocab_size, num_layers, d_model, num_heads, d_ff, dropout_rate, max_len):\n",
    "        super(Transformer, self)._init_()\n",
    "        self.encoder = Encoder(vocab_size, num_layers, d_model, num_heads, d_ff, dropout_rate, max_len)\n",
    "        self.decoder = Decoder(vocab_size, num_layers, d_model, num_heads, d_ff, dropout_rate, max_len)\n",
    "\n",
    "    def forward(self, source, target):\n",
    "        encoder_output = self.encoder(source)\n",
    "        decoder_output = self.decoder(target, encoder_output)\n",
    "        return decoder_output\n"
   ]
  },
  {
   "cell_type": "code",
   "execution_count": null,
   "id": "5ddd93bc-c66f-4a92-b6dc-a66a4c1883ac",
   "metadata": {},
   "outputs": [],
   "source": []
  }
 ],
 "metadata": {
  "kernelspec": {
   "display_name": "Python 3 (ipykernel)",
   "language": "python",
   "name": "python3"
  },
  "language_info": {
   "codemirror_mode": {
    "name": "ipython",
    "version": 3
   },
   "file_extension": ".py",
   "mimetype": "text/x-python",
   "name": "python",
   "nbconvert_exporter": "python",
   "pygments_lexer": "ipython3",
   "version": "3.12.6"
  }
 },
 "nbformat": 4,
 "nbformat_minor": 5
}
